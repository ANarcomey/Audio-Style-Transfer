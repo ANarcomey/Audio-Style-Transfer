{
 "cells": [
  {
   "cell_type": "code",
   "execution_count": 1,
   "metadata": {},
   "outputs": [
    {
     "name": "stderr",
     "output_type": "stream",
     "text": [
      "/home/ubuntu/anaconda3/envs/python3/lib/python3.6/site-packages/matplotlib/__init__.py:962: UserWarning: Duplicate key in file \"/home/ubuntu/.config/matplotlib/matplotlibrc\", line #2\n",
      "  (fname, cnt))\n",
      "/home/ubuntu/anaconda3/envs/python3/lib/python3.6/site-packages/matplotlib/__init__.py:962: UserWarning: Duplicate key in file \"/home/ubuntu/.config/matplotlib/matplotlibrc\", line #3\n",
      "  (fname, cnt))\n"
     ]
    }
   ],
   "source": [
    "import matplotlib.pyplot as plt\n",
    "from audio_utils import *\n",
    "import numpy as np"
   ]
  },
  {
   "cell_type": "code",
   "execution_count": null,
   "metadata": {},
   "outputs": [],
   "source": [
    "synthCostPath = \"savedModels/shallowModel/costs.txt\"\n",
    "synthShortPath = \"savedModels/shallowModel/shortCosts.txt\"\n",
    "\n",
    "trainedCostPath = \"savedModels/trainedShallowModel/costs.txt\"\n",
    "trainedShortPath = \"savedModels/trainedShallowModel/costs.txt\""
   ]
  },
  {
   "cell_type": "code",
   "execution_count": null,
   "metadata": {},
   "outputs": [],
   "source": [
    "costs = loadList(synthCostPath, convertToFloat = True)\n",
    "shortCosts = loadList(synthShortPath, convertToFloat = True)\n",
    "costIterations = np.arange(len(costs))\n",
    "shortIterations = np.arange(len(shortCosts))\n",
    "\n",
    "print(\"length of costs = \", len(costs))\n",
    "print(\"length of short costs = \", len(shortCosts))"
   ]
  },
  {
   "cell_type": "code",
   "execution_count": null,
   "metadata": {},
   "outputs": [],
   "source": [
    "fig = plt.figure()\n",
    "ax = fig.add_subplot(1, 1, 1)\n",
    "\n",
    "#Find at most 101 ticks on the y-axis at 'nice' locations\n",
    "max_yticks = 10\n",
    "yloc = plt.MaxNLocator(max_yticks)\n",
    "ax.yaxis.set_major_locator(yloc)\n",
    "\n",
    "\n",
    "\n",
    "plt.plot(costIterations, costs)\n",
    " \n",
    "# naming the x axis\n",
    "plt.xlabel('iteration')\n",
    "# naming the y axis\n",
    "plt.ylabel('cost')\n",
    " \n",
    "# giving a title to my graph\n",
    "plt.title('Cost over time')\n",
    " \n",
    "# function to show the plot\n",
    "plt.show()"
   ]
  },
  {
   "cell_type": "code",
   "execution_count": null,
   "metadata": {},
   "outputs": [],
   "source": [
    "plt.plot(shortIterations, shortCosts)\n",
    " \n",
    "# naming the x axis\n",
    "plt.xlabel('iteration chunks')\n",
    "# naming the y axis\n",
    "plt.ylabel('cost')\n",
    " \n",
    "# giving a title to my graph\n",
    "plt.title('short costs')\n",
    " \n",
    "# function to show the plot\n",
    "plt.show()"
   ]
  },
  {
   "cell_type": "code",
   "execution_count": null,
   "metadata": {},
   "outputs": [],
   "source": [
    "N = 1000\n",
    "lastN = costs[-N:]\n",
    "plt.plot(range(len(costs) -N, len(costs)), lastN)\n",
    " \n",
    "# naming the x axis\n",
    "plt.xlabel('iterations')\n",
    "# naming the y axis\n",
    "plt.ylabel('cost')\n",
    " \n",
    "# giving a title to my graph\n",
    "plt.title('last ' + str(N) + ' costs')\n",
    " \n",
    "# function to show the plot\n",
    "plt.show()"
   ]
  },
  {
   "cell_type": "code",
   "execution_count": null,
   "metadata": {},
   "outputs": [],
   "source": [
    "print(costs[-10:])"
   ]
  },
  {
   "cell_type": "code",
   "execution_count": null,
   "metadata": {},
   "outputs": [],
   "source": []
  }
 ],
 "metadata": {
  "kernelspec": {
   "display_name": "Python 3",
   "language": "python",
   "name": "python3"
  },
  "language_info": {
   "codemirror_mode": {
    "name": "ipython",
    "version": 3
   },
   "file_extension": ".py",
   "mimetype": "text/x-python",
   "name": "python",
   "nbconvert_exporter": "python",
   "pygments_lexer": "ipython3",
   "version": "3.6.4"
  }
 },
 "nbformat": 4,
 "nbformat_minor": 2
}
